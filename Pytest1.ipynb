{
 "cells": [
  {
   "cell_type": "code",
   "execution_count": 2,
   "id": "1ecfefd9-9456-49b8-b5e5-205b585fc151",
   "metadata": {},
   "outputs": [
    {
     "data": {
      "image/png": "[encoded data removed]",
      "text/plain": [
       "<Figure size 640x480 with 1 Axes>"
      ]
     },
     "metadata": {},
     "output_type": "display_data"
    }
   ],
   "source": [
    "from sklearn import datasets#引入数据集\n",
    "#构造的各种参数可以根据自己需要调整\n",
    "X,y=datasets.make_regression(n_samples=100,n_features=1,n_targets=1,noise=1)\n",
    "\n",
    "###绘制构造的数据###\n",
    "import matplotlib.pyplot as plt\n",
    "plt.figure()\n",
    "plt.scatter(X,y)\n",
    "plt.show()\n"
   ]
  },
  {
   "cell_type": "code",
   "execution_count": 1,
   "id": "95d27e73-abae-4c92-b30a-11fa6f9441b9",
   "metadata": {},
   "outputs": [
    {
     "ename": "IndentationError",
     "evalue": "expected an indented block after 'while' statement on line 2 (1289138238.py, line 3)",
     "output_type": "error",
     "traceback": [
      "\u001b[1;36m  Cell \u001b[1;32mIn[1], line 3\u001b[1;36m\u001b[0m\n\u001b[1;33m    print(\"循环未完成：\"+n[t])\u001b[0m\n\u001b[1;37m    ^\u001b[0m\n\u001b[1;31mIndentationError\u001b[0m\u001b[1;31m:\u001b[0m expected an indented block after 'while' statement on line 2\n"
     ]
    }
   ],
   "source": [
    "n,t=\"12345\",0\n",
    "while t < len(n):\n",
    "print(\"循环未完成：\"+n[t])\n",
    "t+=1\n",
    "else:\n",
    "n=\"字符输出完成\"\n",
    "print(n)"
   ]
  },
  {
   "cell_type": "code",
   "execution_count": 2,
   "id": "b03c1402-ffee-478b-a378-4598a84b2d7d",
   "metadata": {},
   "outputs": [
    {
     "name": "stdout",
     "output_type": "stream",
     "text": [
      "循环未完成：1\n",
      "循环未完成：2\n",
      "循环未完成：3\n",
      "循环未完成：4\n",
      "循环未完成：5\n",
      "字符输出完成\n"
     ]
    }
   ],
   "source": [
    "n,t=\"12345\",0\n",
    "while t < len(n):\n",
    "    print(\"循环未完成：\"+n[t])\n",
    "    t+=1\n",
    "else:\n",
    "    n=\"字符输出完成\"\n",
    "print(n)"
   ]
  },
  {
   "cell_type": "code",
   "execution_count": 5,
   "id": "ccf7b91e-7c5f-425d-aff6-fa45f512795b",
   "metadata": {},
   "outputs": [
    {
     "name": "stdin",
     "output_type": "stream",
     "text": [
      "请输入猜测数字1-100： 60\n"
     ]
    },
    {
     "name": "stdout",
     "output_type": "stream",
     "text": [
      "猜大了！！！\n"
     ]
    },
    {
     "name": "stdin",
     "output_type": "stream",
     "text": [
      "请输入猜测数字1-100： 50\n"
     ]
    },
    {
     "name": "stdout",
     "output_type": "stream",
     "text": [
      "猜大了！！！\n"
     ]
    },
    {
     "name": "stdin",
     "output_type": "stream",
     "text": [
      "请输入猜测数字1-100： 40\n"
     ]
    },
    {
     "name": "stdout",
     "output_type": "stream",
     "text": [
      "猜大了！！！\n"
     ]
    },
    {
     "name": "stdin",
     "output_type": "stream",
     "text": [
      "请输入猜测数字1-100： 30\n"
     ]
    },
    {
     "name": "stdout",
     "output_type": "stream",
     "text": [
      "猜大了！！！\n"
     ]
    },
    {
     "name": "stdin",
     "output_type": "stream",
     "text": [
      "请输入猜测数字1-100： 20\n"
     ]
    },
    {
     "name": "stdout",
     "output_type": "stream",
     "text": [
      "猜小了！\n"
     ]
    },
    {
     "name": "stdin",
     "output_type": "stream",
     "text": [
      "请输入猜测数字1-100： 25\n"
     ]
    },
    {
     "name": "stdout",
     "output_type": "stream",
     "text": [
      "猜小了！\n"
     ]
    },
    {
     "name": "stdin",
     "output_type": "stream",
     "text": [
      "请输入猜测数字1-100： 27\n"
     ]
    },
    {
     "name": "stdout",
     "output_type": "stream",
     "text": [
      "猜小了！\n"
     ]
    },
    {
     "name": "stdin",
     "output_type": "stream",
     "text": [
      "请输入猜测数字1-100： 29\n"
     ]
    },
    {
     "name": "stdout",
     "output_type": "stream",
     "text": [
      "猜大了！！！\n"
     ]
    },
    {
     "name": "stdin",
     "output_type": "stream",
     "text": [
      "请输入猜测数字1-100： 28\n"
     ]
    },
    {
     "name": "stdout",
     "output_type": "stream",
     "text": [
      "第9次就猜中了\n"
     ]
    }
   ],
   "source": [
    "from random import randint\n",
    "times = 0\n",
    "bingo = randint(1,100)\n",
    "while True:\n",
    "    times+=1\n",
    "    guess=eval(input(\"请输入猜测数字1-100：\"))\n",
    "    if guess==bingo:\n",
    "        print(\"第{}次就猜中了\".format(times))\n",
    "        break\n",
    "    else:\n",
    "        if guess > bingo:\n",
    "            print(\"猜大了！！！\")\n",
    "        else:\n",
    "            print(\"猜小了！\")"
   ]
  },
  {
   "cell_type": "code",
   "execution_count": null,
   "id": "40bbd8f6-8b3d-40ae-9cfe-7f01df9e1c2c",
   "metadata": {},
   "outputs": [],
   "source": []
  }
 ],
 "metadata": {
  "kernelspec": {
   "display_name": "Python 3 (ipykernel)",
   "language": "python",
   "name": "python3"
  },
  "language_info": {
   "codemirror_mode": {
    "name": "ipython",
    "version": 3
   },
   "file_extension": ".py",
   "mimetype": "text/x-python",
   "name": "python",
   "nbconvert_exporter": "python",
   "pygments_lexer": "ipython3",
   "version": "3.11.7"
  }
 },
 "nbformat": 4,
 "nbformat_minor": 5
}
